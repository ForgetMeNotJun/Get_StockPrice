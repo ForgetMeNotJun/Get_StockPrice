{
 "cells": [
  {
   "cell_type": "markdown",
   "source": [
    "### 必要なmoduleのinstall\n",
    "pip install pandas-datareader"
   ],
   "metadata": {}
  },
  {
   "cell_type": "code",
   "execution_count": 1,
   "source": [
    "import pandas as pd\n",
    "import datetime\n",
    "import pandas_datareader.data as web\n",
    "import matplotlib.pyplot as plt"
   ],
   "outputs": [],
   "metadata": {}
  },
  {
   "cell_type": "code",
   "execution_count": 2,
   "source": [
    "df_company = pd.read_csv('Company_code.csv')\n",
    "df_company.head(2)"
   ],
   "outputs": [
    {
     "output_type": "execute_result",
     "data": {
      "text/plain": [
       "         日付   コード            銘柄名     市場・商品区分 33業種コード  33業種区分 17業種コード 17業種区分  \\\n",
       "0  20210730  1301             極洋  市場第一部（内国株）      50  水産・農林業       1    食品    \n",
       "1  20210730  1305  ダイワ上場投信－トピックス     ETF・ETN       -       -       -      -   \n",
       "\n",
       "  規模コード           規模区分  \n",
       "0     7  TOPIX Small 2  \n",
       "1     -              -  "
      ],
      "text/html": [
       "<div>\n",
       "<style scoped>\n",
       "    .dataframe tbody tr th:only-of-type {\n",
       "        vertical-align: middle;\n",
       "    }\n",
       "\n",
       "    .dataframe tbody tr th {\n",
       "        vertical-align: top;\n",
       "    }\n",
       "\n",
       "    .dataframe thead th {\n",
       "        text-align: right;\n",
       "    }\n",
       "</style>\n",
       "<table border=\"1\" class=\"dataframe\">\n",
       "  <thead>\n",
       "    <tr style=\"text-align: right;\">\n",
       "      <th></th>\n",
       "      <th>日付</th>\n",
       "      <th>コード</th>\n",
       "      <th>銘柄名</th>\n",
       "      <th>市場・商品区分</th>\n",
       "      <th>33業種コード</th>\n",
       "      <th>33業種区分</th>\n",
       "      <th>17業種コード</th>\n",
       "      <th>17業種区分</th>\n",
       "      <th>規模コード</th>\n",
       "      <th>規模区分</th>\n",
       "    </tr>\n",
       "  </thead>\n",
       "  <tbody>\n",
       "    <tr>\n",
       "      <th>0</th>\n",
       "      <td>20210730</td>\n",
       "      <td>1301</td>\n",
       "      <td>極洋</td>\n",
       "      <td>市場第一部（内国株）</td>\n",
       "      <td>50</td>\n",
       "      <td>水産・農林業</td>\n",
       "      <td>1</td>\n",
       "      <td>食品</td>\n",
       "      <td>7</td>\n",
       "      <td>TOPIX Small 2</td>\n",
       "    </tr>\n",
       "    <tr>\n",
       "      <th>1</th>\n",
       "      <td>20210730</td>\n",
       "      <td>1305</td>\n",
       "      <td>ダイワ上場投信－トピックス</td>\n",
       "      <td>ETF・ETN</td>\n",
       "      <td>-</td>\n",
       "      <td>-</td>\n",
       "      <td>-</td>\n",
       "      <td>-</td>\n",
       "      <td>-</td>\n",
       "      <td>-</td>\n",
       "    </tr>\n",
       "  </tbody>\n",
       "</table>\n",
       "</div>"
      ]
     },
     "metadata": {},
     "execution_count": 2
    }
   ],
   "metadata": {}
  },
  {
   "cell_type": "code",
   "execution_count": 7,
   "source": [
    "def get_stockprice(code_list, start, end):\n",
    "    price_list = []\n",
    "    for code in code_list:\n",
    "        df_price = web.DataReader([str(code) + '.JP'], 'stooq', start, end)\n",
    "        price_list.append(df_price)\n",
    "    price_dic = dict(zip(code_list, price_list))\n",
    "    return price_dic"
   ],
   "outputs": [],
   "metadata": {}
  },
  {
   "cell_type": "code",
   "execution_count": 8,
   "source": [
    "code_list = list(df_company['コード'])\n",
    "start = datetime.date(2021,8,1)\n",
    "end = datetime.date.today()"
   ],
   "outputs": [],
   "metadata": {}
  }
 ],
 "metadata": {
  "orig_nbformat": 4,
  "language_info": {
   "name": "python",
   "version": "3.8.8",
   "mimetype": "text/x-python",
   "codemirror_mode": {
    "name": "ipython",
    "version": 3
   },
   "pygments_lexer": "ipython3",
   "nbconvert_exporter": "python",
   "file_extension": ".py"
  },
  "kernelspec": {
   "name": "python3",
   "display_name": "Python 3.8.8 64-bit (conda)"
  },
  "interpreter": {
   "hash": "6f992ab40698a4eb4c1b34c485c58d89903e0de0bc337334e4d537e379ad0de3"
  }
 },
 "nbformat": 4,
 "nbformat_minor": 2
}